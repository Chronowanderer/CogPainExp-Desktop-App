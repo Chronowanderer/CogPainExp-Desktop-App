{
 "cells": [
  {
   "cell_type": "code",
   "execution_count": 3,
   "id": "33867488",
   "metadata": {},
   "outputs": [
    {
     "name": "stdout",
     "output_type": "stream",
     "text": [
      "DAQhardware.writeValue(): chanNames = b'Dev1/ao1' val = array([0., 5., 5., 0., 0., 5., 5., 0., 0., 5., 5., 0., 0., 5., 5., 0., 0.,\n",
      "       5., 5., 0., 0., 5., 5., 0., 0., 5., 5., 0., 0., 5., 5., 0., 0., 5.,\n",
      "       5., 0., 0., 5., 5., 0.])\n",
      "DAQhardware.setupAnalogOutput(): Wrote 40 samples\n",
      "Task duration: 0.530 sec\n"
     ]
    }
   ],
   "source": [
    "from PainTrigger import *\n",
    "\n",
    "is_MRI = True\n",
    "\n",
    "if __name__ == \"__main__\":\n",
    "    Test(0, 100, is_MRI)\n",
    "    Test(1, 100, is_MRI)\n",
    "    "
   ]
  },
  {
   "cell_type": "code",
   "execution_count": null,
   "id": "79ea701e",
   "metadata": {},
   "outputs": [],
   "source": []
  }
 ],
 "metadata": {
  "kernelspec": {
   "display_name": "Python 3 (ipykernel)",
   "language": "python",
   "name": "python3"
  },
  "language_info": {
   "codemirror_mode": {
    "name": "ipython",
    "version": 3
   },
   "file_extension": ".py",
   "mimetype": "text/x-python",
   "name": "python",
   "nbconvert_exporter": "python",
   "pygments_lexer": "ipython3",
   "version": "3.7.13"
  }
 },
 "nbformat": 4,
 "nbformat_minor": 5
}
