{
 "cells": [
  {
   "cell_type": "code",
   "execution_count": null,
   "id": "cc887700",
   "metadata": {},
   "outputs": [],
   "source": [
    "from PainTrigger import *\n",
    "\n",
    "HOST = \"127.0.0.1\"\n",
    "PORT = 60000\n",
    "\n",
    "is_MRI = True\n",
    "\n",
    "if __name__ == \"__main__\":\n",
    "    SocketConnection(HOST, PORT).connect(is_MRI)\n"
   ]
  },
  {
   "cell_type": "code",
   "execution_count": null,
   "id": "27d1811a",
   "metadata": {},
   "outputs": [],
   "source": []
  }
 ],
 "metadata": {
  "kernelspec": {
   "display_name": "Python 3 (ipykernel)",
   "language": "python",
   "name": "python3"
  },
  "language_info": {
   "codemirror_mode": {
    "name": "ipython",
    "version": 3
   },
   "file_extension": ".py",
   "mimetype": "text/x-python",
   "name": "python",
   "nbconvert_exporter": "python",
   "pygments_lexer": "ipython3",
   "version": "3.7.13"
  }
 },
 "nbformat": 4,
 "nbformat_minor": 5
}
